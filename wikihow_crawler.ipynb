{
 "cells": [
  {
   "cell_type": "markdown",
   "metadata": {
    "id": "0wRfVuOj05dc"
   },
   "source": [
    "Import the required packages\n",
    "and define the global variables"
   ]
  },
  {
   "cell_type": "code",
   "execution_count": null,
   "metadata": {
    "executionInfo": {
     "elapsed": 340,
     "status": "ok",
     "timestamp": 1674549976834,
     "user": {
      "displayName": "Abdulfattah Safa",
      "userId": "07397629325699666682"
     },
     "user_tz": -180
    },
    "id": "DjBZzd0Y13Ta"
   },
   "outputs": [],
   "source": [
    "#!pip install BeautifulSoup\n",
    "#!pip install json"
   ]
  },
  {
   "cell_type": "code",
   "execution_count": null,
   "metadata": {
    "executionInfo": {
     "elapsed": 7,
     "status": "ok",
     "timestamp": 1674549977330,
     "user": {
      "displayName": "Abdulfattah Safa",
      "userId": "07397629325699666682"
     },
     "user_tz": -180
    },
    "id": "RjEUhmDG05de"
   },
   "outputs": [],
   "source": [
    "import os\n",
    "from PIL import Image\n",
    "from io import BytesIO\n",
    "import requests\n",
    "import json\n",
    "from bs4 import BeautifulSoup\n",
    "import re\n",
    "from copy import deepcopy\n",
    "\n",
    "articles_count = 200\n",
    "\n",
    "base_url = \"http://www.wikihow.com\"\n",
    "api_url = 'https://www.wikihow.com/api.php?'\n",
    "use_colab = False\n"
   ]
  },
  {
   "cell_type": "code",
   "execution_count": null,
   "metadata": {
    "colab": {
     "base_uri": "https://localhost:8080/"
    },
    "executionInfo": {
     "elapsed": 2026,
     "status": "ok",
     "timestamp": 1674549979351,
     "user": {
      "displayName": "Abdulfattah Safa",
      "userId": "07397629325699666682"
     },
     "user_tz": -180
    },
    "id": "_vqsokzZ1PrN",
    "outputId": "e51ac35b-7a8c-477f-93fc-2a33877ebfca"
   },
   "outputs": [],
   "source": [
    "if (use_colab):\n",
    "    from google.colab import drive\n",
    "    drive.mount('/content/drive')\n",
    "    dataset_directory = '/content/drive/MyDrive/Colab/datasets/wikihow'\n",
    "    workspace = '/content/drive/MyDrive/Colab/wikihow'\n",
    "else:\n",
    "     dataset_directory = '/kuacc/users/asafa22/google-drive/wikihow'\n",
    "     workspace = '/kuacc/users/asafa22/workspace/wikihow/Siamese'\n",
    "\n",
    "article_dictionary_file_path = os.path.join(dataset_directory, 'articles.json')"
   ]
  },
  {
   "cell_type": "markdown",
   "metadata": {
    "id": "3-uvSqi6mXMG"
   },
   "source": [
    "Read article dictionary file if exists"
   ]
  },
  {
   "cell_type": "code",
   "execution_count": null,
   "metadata": {
    "colab": {
     "base_uri": "https://localhost:8080/"
    },
    "executionInfo": {
     "elapsed": 7,
     "status": "ok",
     "timestamp": 1674549979352,
     "user": {
      "displayName": "Abdulfattah Safa",
      "userId": "07397629325699666682"
     },
     "user_tz": -180
    },
    "id": "UiwjajpMmXMG",
    "outputId": "7d2ec067-4ae0-4333-f342-ded4a9adf9c5"
   },
   "outputs": [],
   "source": [
    "try:\n",
    "    old_article_dictionaries_file = open(article_dictionary_file_path,)\n",
    "    old_article_dictionaries = json.load(old_article_dictionaries_file)\n",
    "    print('Article dictionary file loaded successfully. Number of found entries ', len(old_article_dictionaries))\n",
    "except:\n",
    "    print('Couldn\\'t read old article dictionary file')\n",
    "    old_article_dictionaries = dict()\n",
    "\n",
    "article_dictionaries = dict()"
   ]
  },
  {
   "cell_type": "markdown",
   "metadata": {
    "id": "dU7Xn1xbmXMH"
   },
   "source": [
    "Implemet function to retrieve random artilces from WikiHow"
   ]
  },
  {
   "cell_type": "code",
   "execution_count": null,
   "metadata": {
    "executionInfo": {
     "elapsed": 5,
     "status": "ok",
     "timestamp": 1674549979352,
     "user": {
      "displayName": "Abdulfattah Safa",
      "userId": "07397629325699666682"
     },
     "user_tz": -180
    },
    "id": "rVaAaQRQmXMH"
   },
   "outputs": [],
   "source": [
    "def retrieve_random_articles(article_count):\n",
    "    articles = set()\n",
    "    max = 500\n",
    "    limit = max\n",
    "\n",
    "    if article_count < max:\n",
    "        limit = article_count\n",
    "    else:\n",
    "        limit = max\n",
    "\n",
    "    query = 'action=query&generator=random&grnnamespace=0&prop=info&format=json&grnlimit=' + \\\n",
    "        str(limit)\n",
    "\n",
    "    while len(articles) < article_count:\n",
    "        response = requests.get(api_url+query).json()\n",
    "        pages = response['query']['pages']\n",
    "        for page in pages:\n",
    "            id = pages[page]['pageid']\n",
    "            title = pages[page]['title']\n",
    "            articles.add(title)\n",
    "\n",
    "    return articles\n"
   ]
  },
  {
   "cell_type": "markdown",
   "metadata": {
    "id": "gStsdL9MmXMH"
   },
   "source": [
    "Implement function to retrieve wikiHow article content"
   ]
  },
  {
   "cell_type": "code",
   "execution_count": null,
   "metadata": {
    "executionInfo": {
     "elapsed": 5,
     "status": "ok",
     "timestamp": 1674549979352,
     "user": {
      "displayName": "Abdulfattah Safa",
      "userId": "07397629325699666682"
     },
     "user_tz": -180
    },
    "id": "EHZHoQULmXMI"
   },
   "outputs": [],
   "source": [
    "def retrieve_article(title):\n",
    "    article_dictionary = dict()\n",
    "    step_dictionaries = []\n",
    "\n",
    "    # retrieve categories #\n",
    "    properties_query = 'action=query&prop=categories&format=json&titles='+title\n",
    "    content_query = 'action=parse&prop=text&format=json&page='+title\n",
    "\n",
    "    response = requests.get(api_url+properties_query).json()\n",
    "    # retrieve and parse categories #\n",
    "    categories = []\n",
    "    pageid = next(iter(response['query']['pages']))\n",
    "    category_jsons = response['query']['pages'][pageid]['categories']\n",
    "    for category_json in category_jsons:\n",
    "        category = category_json['title']\n",
    "        categories.append(category)\n",
    "\n",
    "    if 'Category:Stub' in categories:\n",
    "        print(\"Stub article\")\n",
    "        return article_dictionary\n",
    "\n",
    "    # retrieve and parse html #\n",
    "    response = requests.get(api_url+content_query).json()\n",
    "    html = response['parse']['text']['*']\n",
    "    soup = BeautifulSoup(html, features=\"html.parser\")\n",
    "\n",
    "    step_index = 0\n",
    "    for step in soup.find_all(\"li\"):\n",
    "        step_dictionary = dict()\n",
    "        image_src = \"\"\n",
    "        step_text = step.text\n",
    "        step_img_divs = step.find_all('div')\n",
    "        for step_img_div in step_img_divs:\n",
    "            div_class = step_img_div['class']\n",
    "            if 'largeimage' in div_class:\n",
    "                # step image #\n",
    "                images = step_img_div.find_all('img')\n",
    "                for image in images:\n",
    "                    image_src = image['src']\n",
    "                    if not image_src.startswith('http'):\n",
    "                        image_src = base_url+image_src\n",
    "\n",
    "            step_dictionary['step_id'] = step_index\n",
    "            step_dictionary['step'] = step_text\n",
    "            step_dictionary['image'] = image_src\n",
    "            step_dictionaries.append(step_dictionary)\n",
    "            step_index += 1\n",
    "\n",
    "    if len(step_dictionaries) == 0:\n",
    "        return article_dictionary\n",
    "    \n",
    "    article_dictionary['title'] = title\n",
    "    article_dictionary['categories'] = categories\n",
    "    article_dictionary['steps'] = step_dictionaries\n",
    "\n",
    "    return article_dictionary\n"
   ]
  },
  {
   "cell_type": "code",
   "execution_count": null,
   "metadata": {
    "executionInfo": {
     "elapsed": 4,
     "status": "ok",
     "timestamp": 1674549979352,
     "user": {
      "displayName": "Abdulfattah Safa",
      "userId": "07397629325699666682"
     },
     "user_tz": -180
    },
    "id": "JqPqahAv05dh"
   },
   "outputs": [],
   "source": [
    "def download_article_images(article):\n",
    "    title = article['title']\n",
    "    \n",
    "    print('title ', title)\n",
    "    article_dir_name = re.sub(r'[^A-Za-z0-9]+', '_', title)\n",
    "    article_relative_dir = os.path.join('images',article_dir_name)\n",
    "    article_dir = os.path.join(\n",
    "        dataset_directory, article_relative_dir)\n",
    "    \n",
    "    if not os.path.exists(article_dir):\n",
    "        os.makedirs(article_dir)\n",
    "\n",
    "    steps = article['steps'].copy()\n",
    "    for step in steps:\n",
    "            step_id = step['step_id']\n",
    "            image_url = step['image']\n",
    "            image_paths = os.path.split(image_url)\n",
    "            image_name = image_paths[-1]\n",
    "            image_name = image_name.replace('Image:', '')\n",
    "            #image_extension = image_name.split('.')[-1]\n",
    "            image_extension = 'jpeg'\n",
    "            image_name = str(step_id)+'.'+image_extension # to avoid long names\n",
    "            image_file_relative_path = os.path.join(article_relative_dir, image_name)\n",
    "            image_file_path = os.path.join(article_dir, image_name)\n",
    "            image = requests.get(image_url).content\n",
    "            try:\n",
    "              image_object = Image.open(BytesIO(image))\n",
    "              rgb_image = image_object.convert('RGB')\n",
    "              rgb_image.save(image_file_path)\n",
    "              step['image'] = image_file_relative_path\n",
    "            except:\n",
    "              print('Couldnt convert image')\n",
    "              steps.remove(step)\n",
    "            #with open(image_file_path, 'wb') as image_file:\n",
    "            #    image_file.write(image)\n",
    "            #    image_file.close()\n",
    "            \n",
    "    article['steps'] = steps\n",
    "    return article\n"
   ]
  },
  {
   "cell_type": "markdown",
   "metadata": {
    "id": "wq0kASE9mXMI"
   },
   "source": [
    "Retrieve n random article titles"
   ]
  },
  {
   "cell_type": "code",
   "execution_count": null,
   "metadata": {
    "colab": {
     "base_uri": "https://localhost:8080/"
    },
    "executionInfo": {
     "elapsed": 694,
     "status": "ok",
     "timestamp": 1674549980042,
     "user": {
      "displayName": "Abdulfattah Safa",
      "userId": "07397629325699666682"
     },
     "user_tz": -180
    },
    "id": "TCcPrwRe05dg",
    "outputId": "503f36bb-eb72-44ad-ae1c-0224a9dc9b66"
   },
   "outputs": [],
   "source": [
    "print(articles_count)\n",
    "articles = retrieve_random_articles(articles_count)"
   ]
  },
  {
   "cell_type": "markdown",
   "metadata": {
    "id": "ZKsmK3FD05dg"
   },
   "source": [
    "Retrieve the articles content"
   ]
  },
  {
   "cell_type": "code",
   "execution_count": null,
   "metadata": {
    "colab": {
     "base_uri": "https://localhost:8080/"
    },
    "executionInfo": {
     "elapsed": 63049,
     "status": "ok",
     "timestamp": 1674550043086,
     "user": {
      "displayName": "Abdulfattah Safa",
      "userId": "07397629325699666682"
     },
     "user_tz": -180
    },
    "id": "F2WKLhAT05dg",
    "outputId": "c66e1bf0-e19e-472c-a3aa-6b8ae2171d15"
   },
   "outputs": [],
   "source": [
    "articles_to_delete = []\n",
    "for title in articles:\n",
    "    if title in old_article_dictionaries:\n",
    "        print('Title ', title, ' already processed')\n",
    "        continue\n",
    "    \n",
    "    print('Start processing article ', title)\n",
    "    try:\n",
    "        article_dictionary = retrieve_article(title)\n",
    "        if article_dictionary:\n",
    "            article_dictionaries[title] = article_dictionary\n",
    "    except:\n",
    "        print('Couldn\\'t parse article')\n",
    "    print('Finished processing article ', title)\n",
    "\n",
    "print('Number of articles = ', len(articles))\n",
    "\n"
   ]
  },
  {
   "cell_type": "markdown",
   "metadata": {
    "id": "7W1zVW0605dg"
   },
   "source": [
    "Download the article images"
   ]
  },
  {
   "cell_type": "code",
   "execution_count": null,
   "metadata": {
    "colab": {
     "base_uri": "https://localhost:8080/"
    },
    "executionInfo": {
     "elapsed": 384209,
     "status": "ok",
     "timestamp": 1674550427273,
     "user": {
      "displayName": "Abdulfattah Safa",
      "userId": "07397629325699666682"
     },
     "user_tz": -180
    },
    "id": "H3RcjvoPmXMK",
    "outputId": "796af644-ea80-484d-af82-900e8d8f603c"
   },
   "outputs": [],
   "source": [
    "articles_to_delete = []\n",
    "for title in article_dictionaries:\n",
    "    print('Start downloading images for ', title)\n",
    "    try:\n",
    "        \n",
    "        article = download_article_images(article_dictionaries[title])\n",
    "        if len(article['steps'])!=0:\n",
    "          article_dictionaries[title] = article\n",
    "        else:\n",
    "          articles_to_delete.append(title)\n",
    "    except:\n",
    "        print('Couldn\\'t download images')\n",
    "        articles_to_delete.append(title)\n",
    "    print('Finished downloading images for ', title)\n",
    "\n",
    "print('Number of articles with downloaded images= ', len(article_dictionaries))\n",
    "\n",
    "# delete failed articles #\n",
    "for title in articles_to_delete:\n",
    "    del article_dictionaries[title]"
   ]
  },
  {
   "cell_type": "markdown",
   "metadata": {
    "id": "ns3WdgDA05dh"
   },
   "source": [
    "print article dictionaries to file"
   ]
  },
  {
   "cell_type": "code",
   "execution_count": null,
   "metadata": {
    "colab": {
     "base_uri": "https://localhost:8080/"
    },
    "executionInfo": {
     "elapsed": 21,
     "status": "ok",
     "timestamp": 1674550427273,
     "user": {
      "displayName": "Abdulfattah Safa",
      "userId": "07397629325699666682"
     },
     "user_tz": -180
    },
    "id": "oan1Emsl05dh",
    "outputId": "560b19f1-f8a5-440b-f637-4ffff35fb5e5"
   },
   "outputs": [],
   "source": [
    "article_dictionaries.update(old_article_dictionaries)\n",
    "step_count = 0\n",
    "for key in article_dictionaries:\n",
    "  steps = article_dictionaries[key]['steps']\n",
    "  step_count+=len(steps)\n",
    "print('Total number of processed articles (including old ones): ',len(article_dictionaries),' and number of steps: ',step_count)\n",
    "article_file = open(article_dictionary_file_path, \"w\")\n",
    "\n",
    "article_file.write(json.dumps(article_dictionaries))\n",
    "article_file.close()\n"
   ]
  },
  {
   "cell_type": "code",
   "execution_count": null,
   "metadata": {
    "executionInfo": {
     "elapsed": 20,
     "status": "ok",
     "timestamp": 1674550427274,
     "user": {
      "displayName": "Abdulfattah Safa",
      "userId": "07397629325699666682"
     },
     "user_tz": -180
    },
    "id": "qw2RQAjBZ-Lj"
   },
   "outputs": [],
   "source": []
  },
  {
   "cell_type": "code",
   "execution_count": null,
   "metadata": {
    "executionInfo": {
     "elapsed": 19,
     "status": "ok",
     "timestamp": 1674550427274,
     "user": {
      "displayName": "Abdulfattah Safa",
      "userId": "07397629325699666682"
     },
     "user_tz": -180
    },
    "id": "PuHMkfqsO9AD"
   },
   "outputs": [],
   "source": [
    "import os\n",
    "def check_images():\n",
    "  image_count = 0\n",
    "  failed_image_count=0\n",
    "  from PIL import Image\n",
    "  folder_path = dataset_directory+\"/images\"\n",
    "  extensions = []\n",
    "  for fldr in os.listdir(folder_path):\n",
    "      sub_folder_path = os.path.join(folder_path, fldr)\n",
    "      for filee in os.listdir(sub_folder_path):\n",
    "          file_path = os.path.join(sub_folder_path, filee)\n",
    "          print('** Path: {}  **'.format(file_path), end=\"\\r\", flush=True)\n",
    "          image_count+=1\n",
    "          try:\n",
    "            im = Image.open(file_path)\n",
    "            rgb_im = im.convert('RGB')\n",
    "          except:\n",
    "            print('failed to open image: ', file_path)\n",
    "            failed_image_count+=1\n",
    "          if filee.split('.')[1] not in extensions:\n",
    "              extensions.append(filee.split('.')[1])\n",
    "  print(\"Number of scanned images = \", image_count)\n",
    "  print(\"Number of failed images = \", failed_image_count)\n",
    "#check_images()"
   ]
  },
  {
   "cell_type": "code",
   "execution_count": 25,
   "metadata": {
    "executionInfo": {
     "elapsed": 451,
     "status": "ok",
     "timestamp": 1674550427706,
     "user": {
      "displayName": "Abdulfattah Safa",
      "userId": "07397629325699666682"
     },
     "user_tz": -180
    },
    "id": "-8CV4LIDmPy7"
   },
   "outputs": [
    {
     "name": "stdout",
     "output_type": "stream",
     "text": [
      "number of articles in dictonary =  2368\n",
      "number of articles in dictonary after filtering =  2368\n"
     ]
    }
   ],
   "source": [
    "import os\n",
    "import copy\n",
    "def filter_images():\n",
    "    articles_to_delete = []\n",
    "    article_file = open(article_dictionary_file_path,)\n",
    "    article_dictionary = json.load(article_file)\n",
    "    article_file.close()\n",
    "    \n",
    "    print(\"number of articles in dictonary = \", len(article_dictionary))\n",
    "    for article in article_dictionary.keys():\n",
    "        steps = copy.deepcopy(article_dictionary[article]['steps'])\n",
    "        filtered_steps = []\n",
    "        for step in steps:\n",
    "            image = step['image']\n",
    "            if not 'http' in image:\n",
    "                filtered_steps.append(step)\n",
    "        article_dictionary[article]['steps'] = copy.deepcopy(filtered_steps)\n",
    "        if len(steps) ==0:\n",
    "            print('Article has no steps', article)\n",
    "            articles_to_delete.append(article)\n",
    "        \n",
    "    for article in articles_to_delete:\n",
    "         article_dictionary.pop(article)\n",
    "    \n",
    "    print(\"number of articles in dictonary after filtering = \", len(article_dictionary))\n",
    "    article_file = open(article_dictionary_file_path, \"w\")\n",
    "    article_file.write(json.dumps(article_dictionary))\n",
    "    article_file.close()\n",
    "\n",
    "filter_images()"
   ]
  },
  {
   "cell_type": "code",
   "execution_count": null,
   "metadata": {
    "executionInfo": {
     "elapsed": 5,
     "status": "ok",
     "timestamp": 1674550427706,
     "user": {
      "displayName": "Abdulfattah Safa",
      "userId": "07397629325699666682"
     },
     "user_tz": -180
    },
    "id": "DVUS7XT5mPy8"
   },
   "outputs": [],
   "source": [
    "import os\n",
    "from PIL import Image\n",
    "def convert_images():\n",
    "  image_count = 0\n",
    "  failed_image_count = 0\n",
    "  folder_path = dataset_directory+\"/images\"\n",
    "  extensions = []\n",
    "  for fldr in os.listdir(folder_path):\n",
    "  #for fldr in (['Manage_Mental_Illness_in_a_Marriage']):\n",
    "      sub_folder_path = os.path.join(folder_path, fldr)\n",
    "      for filee in os.listdir(sub_folder_path):\n",
    "          file_path = os.path.join(sub_folder_path, filee)\n",
    "          print('** Path: {}  **'.format(file_path), end=\"\\r\", flush=True)\n",
    "          image_count+=1\n",
    "          try:\n",
    "            im = Image.open(file_path)\n",
    "            rgb_im = im.convert('RGB')\n",
    "            rgb_im.save(file_path)\n",
    "          except:\n",
    "            print('failed to open image: ', file_path)\n",
    "            failed_image_count+=1\n",
    "          if filee.split('.')[1] not in extensions:\n",
    "              extensions.append(filee.split('.')[1])\n",
    "  print(\"Number of scanned images = \", image_count)\n",
    "  print(\"Number of failed images = \", failed_image_count)\n",
    "#convert_images()"
   ]
  },
  {
   "cell_type": "code",
   "execution_count": null,
   "metadata": {
    "executionInfo": {
     "elapsed": 4,
     "status": "ok",
     "timestamp": 1674550427706,
     "user": {
      "displayName": "Abdulfattah Safa",
      "userId": "07397629325699666682"
     },
     "user_tz": -180
    },
    "id": "i3ErWlUvmPy8"
   },
   "outputs": [],
   "source": []
  }
 ],
 "metadata": {
  "accelerator": "GPU",
  "colab": {
   "provenance": []
  },
  "gpuClass": "standard",
  "kernelspec": {
   "display_name": "Python 3 (ipykernel)",
   "language": "python",
   "name": "python3"
  },
  "language_info": {
   "codemirror_mode": {
    "name": "ipython",
    "version": 3
   },
   "file_extension": ".py",
   "mimetype": "text/x-python",
   "name": "python",
   "nbconvert_exporter": "python",
   "pygments_lexer": "ipython3",
   "version": "3.9.16"
  },
  "vscode": {
   "interpreter": {
    "hash": "31f2aee4e71d21fbe5cf8b01ff0e069b9275f58929596ceb00d14d90e3e16cd6"
   }
  }
 },
 "nbformat": 4,
 "nbformat_minor": 4
}
